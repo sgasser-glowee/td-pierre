{
 "cells": [
  {
   "cell_type": "markdown",
   "metadata": {},
   "source": [
    "# CGP213/TP 1: Schéma implicite pour l'équation de la chaleur\n",
    "\n",
    "<center style=\"padding: 25px\">\n",
    "Télécharger ce document au format\n",
    "<a href=\"TP2.html\"  download>HTML</a> ou\n",
    "<a href=\"TP2.ipynb\" download>Jupyter</a>.\n",
    "</center>\n",
    "\n",
    "<div style=\"background-color: lightgray; padding: 10px\">\n",
    "<strong>ÉNONCÉ DU PROBLÈME.</strong> On approche la solution $u(x, t)$ du modèle de la chaleur à une dimension spatiale\n",
    "$$\n",
    "    \\frac{\\partial u}{\\partial t} - \\frac{\\partial^2 u}{\\partial x^2} = 0 \\quad 0 < x < 1 \\quad t > 0\n",
    "$$\n",
    "La condition initiale choisie est\n",
    "$$\n",
    "    u(x, 0) = \\sin(\\pi x) \\quad 0 \\leq x \\leq 1\n",
    "$$\n",
    "et on considère une condition limite de Dirichlet homogène\n",
    "$$\n",
    "    u(0, t) = t(1, t) = 0 \\quad t > 0\n",
    "$$\n",
    "</div>"
   ]
  },
  {
   "cell_type": "markdown",
   "metadata": {},
   "source": [
    "**QUESTION 1.** Calculer la solution exacte $V = u(x', t')$ pour $x' = 0.35$ et $t' = 0.2$."
   ]
  },
  {
   "cell_type": "markdown",
   "metadata": {},
   "source": [
    "*Vos réponses ici.*"
   ]
  },
  {
   "cell_type": "markdown",
   "metadata": {},
   "source": [
    "**QUESTION 2.** En utilisant une première grille ($0 \\leq j \\leq m$ avec $m$ de l'ordre de 50) et un nombre de pas de temps adéquat ($0 \\leq k \\leq n$ avec $n$ à déterminer).\n",
    "\n",
    "* Calculer une solution approchée de $V$ qu'on notera $\\tilde{V}$ à l'aide d'un schéma **IMPLICITE**\n",
    "* Calculer l'erreur $|\\tilde{V} - V|$\n",
    "\n",
    "**INDICATION.** Il sera nécessaire de construire le vecteur solution $v$ de taille $n$ au pas de temps $k$ comme solution d'un système d'équations linéaires s'écrivant $A \\cdot v = u$ où\n",
    "\n",
    "* «$\\cdot$» désigne le produit matriciel\n",
    "* $A$ est une matrice $m \\times m$ en bande décrite en cours\n",
    "* $u$ est le vecteur solution au temps $k - 1$\n",
    "\n",
    "La matrice $A$ est constante (et peut donc être pré-calculée) et ressemble à ceci:\n",
    "$$\n",
    "    A = \\left(\n",
    "\\begin{array}{cccccccccc}\n",
    " 1 & 0 & 0 & 0 & 0 & 0 & 0 & 0 & 0 & 0 \\\\\n",
    " 0 & 2 \\zeta +1 & -\\zeta  & 0 & 0 & 0 & 0 & 0 & 0 & 0 \\\\\n",
    " 0 & -\\zeta  & 2 \\zeta +1 & -\\zeta  & 0 & 0 & 0 & 0 & 0 & 0 \\\\\n",
    " 0 & 0 & -\\zeta  & 2 \\zeta +1 & -\\zeta  & 0 & 0 & 0 & 0 & 0 \\\\\n",
    " 0 & 0 & 0 & -\\zeta  & 2 \\zeta +1 & -\\zeta  & 0 & 0 & 0 & 0 \\\\\n",
    " 0 & 0 & 0 & 0 & -\\zeta  & 2 \\zeta +1 & -\\zeta  & 0 & 0 & 0 \\\\\n",
    " 0 & 0 & 0 & 0 & 0 & -\\zeta  & 2 \\zeta +1 & -\\zeta  & 0 & 0 \\\\\n",
    " 0 & 0 & 0 & 0 & 0 & 0 & -\\zeta  & 2 \\zeta +1 & -\\zeta  & 0 \\\\\n",
    " 0 & 0 & 0 & 0 & 0 & 0 & 0 & -\\zeta  & 2 \\zeta +1 & 0 \\\\\n",
    " 0 & 0 & 0 & 0 & 0 & 0 & 0 & 0 & 0 & 1 \\\\\n",
    "\\end{array}\n",
    "\\right)\n",
    "$$\n",
    "La résolution pourra faire appel à la fonction `solve()` de la bibliothèque `scipy.linalg` (ou éventuellement à la fonction `solve_banded()` si vous choisissez une représentation en bandes pour la matrice $A$).\n",
    "\n",
    "```Python\n",
    "import numpy as np\n",
    "import scipy.linalg\n",
    "import matplotlib.pyplot as plt\n",
    "\n",
    ".\n",
    ".\n",
    ".\n",
    "\n",
    "# Initialisation\n",
    "u = np.copy(u0)\n",
    "\n",
    "# Numerical integration\n",
    "for k in range(n - 1):\n",
    "    u = scipy.linalg.solve(A, u)\n",
    "```\n",
    "\n",
    "<!-- A = Table[Which[(i == j == 1) || (i == j == n), 1,\n",
    "    i == 1 || j == 1 || i == n || j == n, 0, i == j, 1 + 2 Zeta, Abs[i - j] == 1, -Zeta,\n",
    "    True, 0], {i, n}, {j, n}]; -->"
   ]
  },
  {
   "cell_type": "markdown",
   "metadata": {},
   "source": [
    "*Vos réponses ici.*"
   ]
  }
 ],
 "metadata": {
  "kernelspec": {
   "display_name": "Python 3",
   "language": "python",
   "name": "python3"
  },
  "language_info": {
   "codemirror_mode": {
    "name": "ipython",
    "version": 3
   },
   "file_extension": ".py",
   "mimetype": "text/x-python",
   "name": "python",
   "nbconvert_exporter": "python",
   "pygments_lexer": "ipython3",
   "version": "3.8.5"
  }
 },
 "nbformat": 4,
 "nbformat_minor": 4
}
