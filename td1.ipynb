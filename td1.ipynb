{
  "metadata": {
    "kernelspec": {
      "display_name": "Python 3 (ipykernel)",
      "language": "python",
      "name": "python3"
    },
    "language_info": {
      "codemirror_mode": {
        "name": "ipython",
        "version": 3
      },
      "file_extension": ".py",
      "mimetype": "text/x-python",
      "name": "python",
      "nbconvert_exporter": "python",
      "pygments_lexer": "ipython3",
      "version": "3.7.12"
    }
  },
  "nbformat_minor": 4,
  "nbformat": 4,
  "cells": [
    {
      "cell_type": "markdown",
      "source": "# CGP213/TP 1: Schéma explicite pour l'équation de la chaleur\n\n<center style=\"padding: 25px\">\nTélécharger ce document au format\n<a href=\"TP1.html\"  download>HTML</a> ou\n<a href=\"TP1.ipynb\" download>Jupyter</a>.\n</center>\n\n**ÉNONCÉ DU PROBLÈME.** On approche la solution $u(x, t)$ du modèle de la chaleur à une dimension spatiale\n$$\n    \\frac{\\partial u}{\\partial t} - \\frac{\\partial^2 u}{\\partial x^2} = 0 \\ , \\quad \\text{avec } 0 < x < 1 \\text{ et } t > 0\n$$\nLa condition initiale choisie est $u(x, 0) = \\sin(\\pi \\cdot x)$ pour $0 \\leq x \\leq 1$\net on considère une condition limite de Dirichlet homogène, c'est-à-dire\n$u(0, t) = u(1, t) = 0$ pour $t > 0$.",
      "metadata": {}
    },
    {
      "cell_type": "code",
      "source": "import matplotlib.pyplot as plt\nimport numpy as np",
      "metadata": {
        "trusted": true
      },
      "execution_count": 1,
      "outputs": []
    },
    {
      "cell_type": "markdown",
      "source": "**QUESTION 1.** Calculer la solution exacte $V = u(x', t')$ pour $x' = 1/4$ et $t' = 1/15$.",
      "metadata": {}
    },
    {
      "cell_type": "markdown",
      "source": "Il faut déterminer la solution analytique\nIl est possible de réaliser une résolution par séparation \nu(x,t) = X(x) * T(t)\n$$\n\\frac{\\partial u}{\\partial t} = X(x) * T'(t)\n$$\n$$\n\\frac{\\partial u^2 u}{\\partial x^2} = X''(x) * T(t)\n$$\nCe qui donne \n$$\n\\frac{T'(t)}{T (t)} = \\frac{X''(x)}{X(x)} = C\n$$\n$$\nT=\\exp(Ct)\n$$\n$$\nX = sin (\\pi x)\n$$\n$$\nu(x,t) = sin (\\pi x) \\exp (Ct)\n$$\n$$\n\\frac{\\partial u}{\\partial t} = C sin(\\pi x) \\exp (Ct)\n$$\n$$\n\\frac{\\partial u^2 u}{\\partial x^2} = -\\pi^2 sin(\\pi x) exp (Ct)\n$$\n$$\nC = - \\pi^2\n$$",
      "metadata": {}
    },
    {
      "cell_type": "code",
      "source": "\n\ndef V(x):\n    return (np.sin(np.pi*x))*np.exp((-np.pi*np.pi)*(1/15))\n\ny = V(1/4)\ny",
      "metadata": {
        "trusted": true
      },
      "execution_count": 2,
      "outputs": [
        {
          "execution_count": 2,
          "output_type": "execute_result",
          "data": {
            "text/plain": "0.36621041111235797"
          },
          "metadata": {}
        }
      ]
    },
    {
      "cell_type": "markdown",
      "source": "**QUESTION 2.** En utilisant une première grille ($0 \\leq j \\leq m$ avec $m$ de l'ordre de 30) et un nombre de pas de temps adéquat ($0 \\leq k \\leq n$ avec $n$ à déterminer).\n\n* Calculer une solution approchée de $V$ qu'on notera $v_1$ à l'aide d'un schéma **EXPLICITE**\n* Calculer l'erreur $|v_1 - V|$",
      "metadata": {}
    },
    {
      "cell_type": "code",
      "source": "# Paramètres etude:\n\nL = 1 #Longueur du domaine (longueur de la bar)\nk = 1 #Coefficient de diffusion \nTf = 1/15 #Temps final de l'étude\n\n#Paramètres numériques:\nJ = 33 #Nombre de points  dans la grille \nn = 250 # Nombre de pas de temps\nx,dx = np.linspace(0,1,num = J, retstep = True)\nt,dt = np.linspace (0, Tf, num = n, retstep = True)\nS = k * (dt/(dx*dx)) #pour des raisons de stabilité le zéta doit avoir une valeur inférieur à 0.5\n\nx,S\n\n# Pour que x=0.25 il faut prendre la 8ème valeur sans prendre en compte la première valeur.",
      "metadata": {
        "trusted": true
      },
      "execution_count": 3,
      "outputs": [
        {
          "execution_count": 3,
          "output_type": "execute_result",
          "data": {
            "text/plain": "(array([0.     , 0.03125, 0.0625 , 0.09375, 0.125  , 0.15625, 0.1875 ,\n        0.21875, 0.25   , 0.28125, 0.3125 , 0.34375, 0.375  , 0.40625,\n        0.4375 , 0.46875, 0.5    , 0.53125, 0.5625 , 0.59375, 0.625  ,\n        0.65625, 0.6875 , 0.71875, 0.75   , 0.78125, 0.8125 , 0.84375,\n        0.875  , 0.90625, 0.9375 , 0.96875, 1.     ]),\n 0.2741633199464525)"
          },
          "metadata": {}
        }
      ]
    },
    {
      "cell_type": "code",
      "source": "# Initialisation\nx,dx = np.linspace(0,1,num = J, retstep = True)\nt,dt = np.linspace (0, Tf, num = n, retstep = True)\n\nU = np.sin(np.pi*x)\nU,x",
      "metadata": {
        "trusted": true
      },
      "execution_count": 4,
      "outputs": [
        {
          "execution_count": 4,
          "output_type": "execute_result",
          "data": {
            "text/plain": "(array([0.00000000e+00, 9.80171403e-02, 1.95090322e-01, 2.90284677e-01,\n        3.82683432e-01, 4.71396737e-01, 5.55570233e-01, 6.34393284e-01,\n        7.07106781e-01, 7.73010453e-01, 8.31469612e-01, 8.81921264e-01,\n        9.23879533e-01, 9.56940336e-01, 9.80785280e-01, 9.95184727e-01,\n        1.00000000e+00, 9.95184727e-01, 9.80785280e-01, 9.56940336e-01,\n        9.23879533e-01, 8.81921264e-01, 8.31469612e-01, 7.73010453e-01,\n        7.07106781e-01, 6.34393284e-01, 5.55570233e-01, 4.71396737e-01,\n        3.82683432e-01, 2.90284677e-01, 1.95090322e-01, 9.80171403e-02,\n        1.22464680e-16]),\n array([0.     , 0.03125, 0.0625 , 0.09375, 0.125  , 0.15625, 0.1875 ,\n        0.21875, 0.25   , 0.28125, 0.3125 , 0.34375, 0.375  , 0.40625,\n        0.4375 , 0.46875, 0.5    , 0.53125, 0.5625 , 0.59375, 0.625  ,\n        0.65625, 0.6875 , 0.71875, 0.75   , 0.78125, 0.8125 , 0.84375,\n        0.875  , 0.90625, 0.9375 , 0.96875, 1.     ]))"
          },
          "metadata": {}
        }
      ]
    },
    {
      "cell_type": "code",
      "source": "UN = np.zeros (J)\n#Condition limite\nUN [0] = 0\nUN [J-1] =0 ",
      "metadata": {
        "trusted": true
      },
      "execution_count": 5,
      "outputs": []
    },
    {
      "cell_type": "code",
      "source": "# Boucle programme \n\nfor l in range (1,n):\n    for j in range (1,J-1):\n        UN[j] = U[j] + S * (U[j+1] - 2*U[j] + U[j-1])\n    for j in range (0,J):\n        U[j]=UN[j]\nU",
      "metadata": {
        "trusted": true
      },
      "execution_count": 6,
      "outputs": [
        {
          "execution_count": 6,
          "output_type": "execute_result",
          "data": {
            "text/plain": "array([0.        , 0.05074574, 0.10100276, 0.15028707, 0.19812404,\n       0.24405297, 0.28763153, 0.32844004, 0.3660855 , 0.40020535,\n       0.430471  , 0.45659099, 0.47831375, 0.49543009, 0.50777517,\n       0.51523009, 0.51772307, 0.51523009, 0.50777517, 0.49543009,\n       0.47831375, 0.45659099, 0.430471  , 0.40020535, 0.3660855 ,\n       0.32844004, 0.28763153, 0.24405297, 0.19812404, 0.15028707,\n       0.10100276, 0.05074574, 0.        ])"
          },
          "metadata": {}
        }
      ]
    },
    {
      "cell_type": "code",
      "source": "v1 = U[8]\nv1",
      "metadata": {
        "trusted": true
      },
      "execution_count": 7,
      "outputs": [
        {
          "execution_count": 7,
          "output_type": "execute_result",
          "data": {
            "text/plain": "0.36608549502445986"
          },
          "metadata": {}
        }
      ]
    },
    {
      "cell_type": "code",
      "source": "plt.plot(x,V(x),label='Analytique', color='green')\nplt.scatter(x,U,label='Explicite', color='grey')\nplt.scatter(1/4,v1, color='red')\nplt.legend()",
      "metadata": {
        "trusted": true
      },
      "execution_count": 8,
      "outputs": [
        {
          "execution_count": 8,
          "output_type": "execute_result",
          "data": {
            "text/plain": "<matplotlib.legend.Legend at 0x7f9b92194710>"
          },
          "metadata": {}
        },
        {
          "output_type": "display_data",
          "data": {
            "text/plain": "<Figure size 432x288 with 1 Axes>",
            "image/png": "[encoded data removed]"
          },
          "metadata": {
            "needs_background": "light"
          }
        }
      ]
    },
    {
      "cell_type": "code",
      "source": "#Calcul de l'erreur entre la valeur approché et la valeur explicite \n#Erreur absolue\ne_abs1 = abs(v1 - y)\n\n#Erreur explicite\ne_expl1 = (abs(v1 - y)*100)/y\n\ne_abs1, e_expl1",
      "metadata": {
        "trusted": true
      },
      "execution_count": 21,
      "outputs": [
        {
          "execution_count": 21,
          "output_type": "execute_result",
          "data": {
            "text/plain": "(0.00012491608789810815, 0.03411046876539573)"
          },
          "metadata": {}
        }
      ]
    },
    {
      "cell_type": "markdown",
      "source": "**QUESTION 3.** Doubler le nombre $m$ de pas d'espace en laissant fixe le paramètre $\\zeta = \\Delta t/\\Delta x^2$.\n\n* Modifier le nombre de pas de temps $n$\n* Calculer une solution approchée de $V$ qu'on notera $v_2$\n* Calculer l'erreur $|v_2 - V|$\n* Commenter le résultat",
      "metadata": {}
    },
    {
      "cell_type": "code",
      "source": "# Paramètres etude:\n\nL = 1 #Longueur du domaine (longueur de la bar)\nk = 1 #Coefficient de diffusion \nTf = 1/15 #Temps final de l'étude\n\n#Paramètres numériques:\nH = 65 #Nombre de points  dans la grille la valeur n'est pas exactement égale à celle de la question 2 mais cela me permet d'avoir un valeur de x de 0.25.\nn = 1028 # Nombre de pas de temps S1 = S2\nx,dx = np.linspace(0,1,num = H, retstep = True)\nt,dt = np.linspace (0, Tf, num = n, retstep = True)\nS = k * (dt/(dx*dx)) #pour des raisons de stabilité le zéta doit avoir une valeur inférieur à 0.5\n\nx,S\n\n# Pour que x=0.25 il faut prendre la 16ème valeur sans prendre en compte la première valeur.\n",
      "metadata": {
        "trusted": true
      },
      "execution_count": 10,
      "outputs": [
        {
          "execution_count": 10,
          "output_type": "execute_result",
          "data": {
            "text/plain": "(array([0.      , 0.015625, 0.03125 , 0.046875, 0.0625  , 0.078125,\n        0.09375 , 0.109375, 0.125   , 0.140625, 0.15625 , 0.171875,\n        0.1875  , 0.203125, 0.21875 , 0.234375, 0.25    , 0.265625,\n        0.28125 , 0.296875, 0.3125  , 0.328125, 0.34375 , 0.359375,\n        0.375   , 0.390625, 0.40625 , 0.421875, 0.4375  , 0.453125,\n        0.46875 , 0.484375, 0.5     , 0.515625, 0.53125 , 0.546875,\n        0.5625  , 0.578125, 0.59375 , 0.609375, 0.625   , 0.640625,\n        0.65625 , 0.671875, 0.6875  , 0.703125, 0.71875 , 0.734375,\n        0.75    , 0.765625, 0.78125 , 0.796875, 0.8125  , 0.828125,\n        0.84375 , 0.859375, 0.875   , 0.890625, 0.90625 , 0.921875,\n        0.9375  , 0.953125, 0.96875 , 0.984375, 1.      ]),\n 0.2658876987990912)"
          },
          "metadata": {}
        }
      ]
    },
    {
      "cell_type": "code",
      "source": "# Initialisation\nx,dx = np.linspace(0,1,num = H, retstep = True)\nt,dt = np.linspace (0, Tf, num = n, retstep = True)\n\nU = np.sin(np.pi*x)\nU,x",
      "metadata": {
        "trusted": true
      },
      "execution_count": 11,
      "outputs": [
        {
          "execution_count": 11,
          "output_type": "execute_result",
          "data": {
            "text/plain": "(array([0.00000000e+00, 4.90676743e-02, 9.80171403e-02, 1.46730474e-01,\n        1.95090322e-01, 2.42980180e-01, 2.90284677e-01, 3.36889853e-01,\n        3.82683432e-01, 4.27555093e-01, 4.71396737e-01, 5.14102744e-01,\n        5.55570233e-01, 5.95699304e-01, 6.34393284e-01, 6.71558955e-01,\n        7.07106781e-01, 7.40951125e-01, 7.73010453e-01, 8.03207531e-01,\n        8.31469612e-01, 8.57728610e-01, 8.81921264e-01, 9.03989293e-01,\n        9.23879533e-01, 9.41544065e-01, 9.56940336e-01, 9.70031253e-01,\n        9.80785280e-01, 9.89176510e-01, 9.95184727e-01, 9.98795456e-01,\n        1.00000000e+00, 9.98795456e-01, 9.95184727e-01, 9.89176510e-01,\n        9.80785280e-01, 9.70031253e-01, 9.56940336e-01, 9.41544065e-01,\n        9.23879533e-01, 9.03989293e-01, 8.81921264e-01, 8.57728610e-01,\n        8.31469612e-01, 8.03207531e-01, 7.73010453e-01, 7.40951125e-01,\n        7.07106781e-01, 6.71558955e-01, 6.34393284e-01, 5.95699304e-01,\n        5.55570233e-01, 5.14102744e-01, 4.71396737e-01, 4.27555093e-01,\n        3.82683432e-01, 3.36889853e-01, 2.90284677e-01, 2.42980180e-01,\n        1.95090322e-01, 1.46730474e-01, 9.80171403e-02, 4.90676743e-02,\n        1.22464680e-16]),\n array([0.      , 0.015625, 0.03125 , 0.046875, 0.0625  , 0.078125,\n        0.09375 , 0.109375, 0.125   , 0.140625, 0.15625 , 0.171875,\n        0.1875  , 0.203125, 0.21875 , 0.234375, 0.25    , 0.265625,\n        0.28125 , 0.296875, 0.3125  , 0.328125, 0.34375 , 0.359375,\n        0.375   , 0.390625, 0.40625 , 0.421875, 0.4375  , 0.453125,\n        0.46875 , 0.484375, 0.5     , 0.515625, 0.53125 , 0.546875,\n        0.5625  , 0.578125, 0.59375 , 0.609375, 0.625   , 0.640625,\n        0.65625 , 0.671875, 0.6875  , 0.703125, 0.71875 , 0.734375,\n        0.75    , 0.765625, 0.78125 , 0.796875, 0.8125  , 0.828125,\n        0.84375 , 0.859375, 0.875   , 0.890625, 0.90625 , 0.921875,\n        0.9375  , 0.953125, 0.96875 , 0.984375, 1.      ]))"
          },
          "metadata": {}
        }
      ]
    },
    {
      "cell_type": "code",
      "source": "UN = np.zeros (H)\n#Condition limite\nUN [0] = 0\nUN [H-1] =0 ",
      "metadata": {
        "trusted": true
      },
      "execution_count": 12,
      "outputs": []
    },
    {
      "cell_type": "code",
      "source": "# Boucle programme \n\nfor l in range (1,n):\n    for h in range (1,H-1):\n        UN[h] = U[h] + S * (U[h+1] - 2*U[h] + U[h-1])\n    for h in range (0,H):\n        U[h]=UN[h]\nU",
      "metadata": {
        "trusted": true
      },
      "execution_count": 13,
      "outputs": [
        {
          "execution_count": 13,
          "output_type": "execute_result",
          "data": {
            "text/plain": "array([0.        , 0.02541014, 0.05075906, 0.0759857 , 0.10102928,\n       0.12582947, 0.15032653, 0.17446144, 0.19817606, 0.22141325,\n       0.24411704, 0.26623273, 0.28770704, 0.30848824, 0.32852626,\n       0.34777284, 0.3661816 , 0.3837082 , 0.40031041, 0.41594824,\n       0.43058401, 0.44418247, 0.45671085, 0.46813898, 0.47843932,\n       0.48758706, 0.49556015, 0.5023394 , 0.50790847, 0.51225395,\n       0.51536536, 0.5172352 , 0.51785899, 0.5172352 , 0.51536536,\n       0.51225395, 0.50790847, 0.5023394 , 0.49556015, 0.48758706,\n       0.47843932, 0.46813898, 0.45671085, 0.44418247, 0.43058401,\n       0.41594824, 0.40031041, 0.3837082 , 0.3661816 , 0.34777284,\n       0.32852626, 0.30848824, 0.28770704, 0.26623273, 0.24411704,\n       0.22141325, 0.19817606, 0.17446144, 0.15032653, 0.12582947,\n       0.10102928, 0.0759857 , 0.05075906, 0.02541014, 0.        ])"
          },
          "metadata": {}
        }
      ]
    },
    {
      "cell_type": "code",
      "source": "v2 = U[16]",
      "metadata": {
        "trusted": true
      },
      "execution_count": 14,
      "outputs": []
    },
    {
      "cell_type": "code",
      "source": "plt.plot(x,V(x),label='Analytique', color='green')\nplt.scatter(x,U,label='Explicite', color='grey')\nplt.scatter(1/4,v2, color='red')\nplt.legend()",
      "metadata": {
        "trusted": true
      },
      "execution_count": 15,
      "outputs": [
        {
          "execution_count": 15,
          "output_type": "execute_result",
          "data": {
            "text/plain": "<matplotlib.legend.Legend at 0x7f9b89e00310>"
          },
          "metadata": {}
        },
        {
          "output_type": "display_data",
          "data": {
            "text/plain": "<Figure size 432x288 with 1 Axes>",
            "image/png": "[encoded data removed]"
          },
          "metadata": {
            "needs_background": "light"
          }
        }
      ]
    },
    {
      "cell_type": "code",
      "source": "#Calcul de l'erreur entre la valeur approché et la valeur explicite \n#Erreur absolue\ne_abs2 = abs(v2 - y)\n\n#Erreur explicite\ne_expl2 = (abs(v2 - y)*100)/y\n\ne_abs2, e_expl2",
      "metadata": {
        "trusted": true
      },
      "execution_count": 22,
      "outputs": [
        {
          "execution_count": 22,
          "output_type": "execute_result",
          "data": {
            "text/plain": "(2.8808718521011745e-05, 0.007866712044997778)"
          },
          "metadata": {}
        }
      ]
    },
    {
      "cell_type": "code",
      "source": "e_abscomp = e_abs1 - e_abs2\ne_abscomp",
      "metadata": {
        "trusted": true
      },
      "execution_count": 24,
      "outputs": [
        {
          "execution_count": 24,
          "output_type": "execute_result",
          "data": {
            "text/plain": "9.610736937709641e-05"
          },
          "metadata": {}
        }
      ]
    },
    {
      "cell_type": "code",
      "source": "e_explcomp = e_expl1 - e_expl2\ne_explcomp",
      "metadata": {
        "trusted": true
      },
      "execution_count": 26,
      "outputs": [
        {
          "execution_count": 26,
          "output_type": "execute_result",
          "data": {
            "text/plain": "0.026243756720397953"
          },
          "metadata": {}
        }
      ]
    },
    {
      "cell_type": "markdown",
      "source": "L'augmentation du nombre de point de m (appelé J=33 dans la question 2 et H=65 dans la question 3) et que que le nombre de pas de temps est augmenté pour avoir un Zéta (ici S) équivalent, permet de diminuer l'erreur (absolue et relative).",
      "metadata": {}
    },
    {
      "cell_type": "code",
      "source": "",
      "metadata": {},
      "execution_count": null,
      "outputs": []
    }
  ]
}
